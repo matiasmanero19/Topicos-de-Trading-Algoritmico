{
 "cells": [
  {
   "cell_type": "markdown",
   "metadata": {},
   "source": [
    "# Backtesting"
   ]
  },
  {
   "cell_type": "markdown",
   "metadata": {},
   "source": [
    "## Backtesting => Disclaimer\n",
    "    Backtesting Vs RiskManagement"
   ]
  },
  {
   "cell_type": "markdown",
   "metadata": {},
   "source": [
    "## Tipos de Backtests\n",
    "\n",
    "    * Enfoque Matricial (discreto)\n",
    "    * Enfoque Event-Driven (simil continuo)\n",
    "    * Criterios de realismo\n",
    "        * Tipos activos/takers ¿Que condicion impongo para volumenes/ventanas de tiempo?\n",
    "        * Tipos posivos/makers ¿Que % de ejecución bajo X Circunstancias asumo?\n",
    "        * En gral ¿hubiera afectado mi orden al mercado? ¿como lo se? ¿como lo valido? ¿que puedo asumir?\n",
    "        * Costos tranasaccionales, comision, derechos de mercado, spread, impuestos, costos infraestr, mkt data etc"
   ]
  },
  {
   "cell_type": "markdown",
   "metadata": {},
   "source": [
    "## Etapas de un Backtest"
   ]
  },
  {
   "cell_type": "markdown",
   "metadata": {},
   "source": [
    "* PreBackTest (Etapa de Research)\n",
    "    * Armado de tablas de indicadores potenciales\n",
    "    * Planteo de \"Racional\" o Hipótesis de trabajo\n",
    "    * Análisis de correlación\n",
    "        * Regresiones inputs/forwards\n",
    "        * Algos de clasificacion o probabilidades de suba o baja en funcion de inputs\n",
    "    * Tabla de posibles trades pasados el racional de trading\n",
    "    * Tabla de resultados o reporting básico\n",
    "        * % de trades positivos y negativos\n",
    "        * Esperanza matemática del método\n",
    "        * Tiempo comprado / libre\n",
    "        \n",
    "        \n",
    "* Backtest básico\n",
    "    * Trades en un grupo de activos, en un rango de parametros\n",
    "    * Tabla de resultados intermedia\n",
    "        * Resultados año a año\n",
    "        * Comparación con el buy&Hold\n",
    "        * Comparación con el banchmark\n",
    "        * Ratios de riesgo (Sharpe, Sortino, etc)\n",
    "        \n",
    "\n",
    "\n",
    "* Análisis de sensibilidad\n",
    "    * Parametrización de variables\n",
    "    * Cambio de indicadores\n",
    "    * Uso de grupos de control\n",
    "    \n",
    "\n",
    "\n",
    "* Análisis de portabilidad\n",
    "    * Riesgo de overfiting\n",
    "    * Cruce y armado de matrices de resultados\n",
    "    * Matrices de correlacion cross mkt\n",
    "    * Matrices de correlacion cross time-frame\n",
    "    * Clusterizacion por régimenes (volatilidad, épocas, ciclos etc)\n",
    "    \n",
    "    \n",
    "* Backtest Avanzado\n",
    "    * Manejo de posición/riesgo, exposición óptima (Kelly, Montecarlo etc)\n",
    "    * Factibilidad técnica (volúmenes, liquidez, spreads, fallas, tiempos etc)"
   ]
  },
  {
   "cell_type": "markdown",
   "metadata": {},
   "source": [
    "## Reporting Ejemplo básico"
   ]
  },
  {
   "cell_type": "markdown",
   "metadata": {},
   "source": [
    "<img src='imagenes/backtest.png'>"
   ]
  },
  {
   "cell_type": "markdown",
   "metadata": {},
   "source": [
    "## Objetivos principales de cada etapa"
   ]
  },
  {
   "cell_type": "markdown",
   "metadata": {},
   "source": [
    "### 1- PreBackTest (Etapa de Research)\n",
    "\n",
    "   El objetivo es plantear todo tipo de idea posible, verificar antes que nada la correlación entre los inputs planteados y la reacción del mercado, etc\n",
    "    \n",
    "   La idea es plantear la mayor cantidad de hipótesis posibles, ser amplio en la visión y riguroso en que sirve y que no sirve, ante la duda dejar para validar mas adelante\n",
    "\n",
    "        \n",
    "        \n",
    "### 2- Backtest básico\n",
    "\n",
    "   El objetivo principal es empezar a validar en forma rápida la conveniencia de aplicar un método algoritmico, tanto por el riesgo asumido como contra eel benchmark de su mercado y la variabilidad en diferentes contextos, epocas etc..\n",
    "    \n",
    "        \n",
    "### 3- Análisis de sensibilidad\n",
    "\n",
    "   El objetivo principal de esta etapa es el análisis de cada parámetro del sistema, ver como varían los resultados variando todo tipo de parámetro, donde aumentan o disminuyen la cantidad de señales, de eventos positivos, negativos, extremos, medios, largos, cortos, etc. \n",
    "    \n",
    "   Claramente es la etapa mas abierta que puede dar pie a volver a la etapa de research y empezar a replantear indicadores\n",
    "\n",
    "\n",
    "### 4- Análisis de portabilidad\n",
    "\n",
    "   Es el anteúltimo filtro del método es la prueba de fuego al overfiting, aque se pone a prueba el método frente a diferentes mercados, a diferentes timeframes, a diferentes activos o grupos de activos etc, obviamente no necesariamente tiene que ser portable a todo, pero tampoco puede ser un método aplicable a un solo activo en un solo timeframe en una sola época\n",
    "    \n",
    "   Si bien siempre hay variabilidad, un método bien robusto se mueve en rangos acotados, es decir no puede dar lo contrario en un activo que en otro, puede performar un poco mejor un poco peor, etc, de hecho si construyen una distribucion de rendimientos a varios activos, mientras menor desvio del rendimiento mas robusto el método o mas portable entre activos\n",
    "    \n",
    "   Es muy util en este punto los algos de clusterizacion para ver comportamiento en diferentes clusters (que pueden ser régimenes de volatilidad, volumen, tendencias, etc..)\n",
    "    \n",
    "    \n",
    "### 5- Backtest Avanzado\n",
    "    \n",
    "   Esta es la etapa final, aquí se valida la viabilidad en cuanto a liquidez, costo transaccional, spreads, posibles fallas del mercado, apis, tiempos, volúmenes, reglamentaciones, etc\n",
    "    \n",
    "   También se valida la exposición real y el manejo de posicion buscando un tamaño de posición óptima al riesgo a asumir, esto puede estimarse via montecarlo o modelarse con criterios como kelly"
   ]
  },
  {
   "cell_type": "code",
   "execution_count": null,
   "metadata": {},
   "outputs": [],
   "source": []
  },
  {
   "cell_type": "markdown",
   "metadata": {},
   "source": [
    "# Bots"
   ]
  },
  {
   "cell_type": "markdown",
   "metadata": {},
   "source": [
    "## Tipos de Bots de Trading"
   ]
  },
  {
   "cell_type": "markdown",
   "metadata": {},
   "source": [
    "BOTs de DataFeed / Screeners\n",
    "\n",
    "BOTs de Trading\n",
    "\n",
    "* Bots de Colocación de grandes órdenes, para no alterar precio\n",
    "* Bots de Colocación de órdenes, para obtener el mejor precio\n",
    "* Bots de Market Making\n",
    "* Bots de Arbitrajes en un mercado\n",
    "* Bots de Arbitrajes entre mercados\n",
    "* Bots de Arbitrajes estadísticos (en un mercado o entre mercados)\n",
    "* Bots de Hedging\n",
    "* Bots de Balanceo de carteras (optimización, riesgo, etc)\n",
    "* Bots de ruteo para seguimiento de índices (fondos, etfs)\n",
    "* Bots de scalping\n",
    "* Bots de swing trading\n",
    "\n",
    "\n",
    "BOTs estratégicos\n",
    "\n",
    "* Bots de detección de otros bots"
   ]
  },
  {
   "cell_type": "code",
   "execution_count": null,
   "metadata": {},
   "outputs": [],
   "source": []
  },
  {
   "cell_type": "code",
   "execution_count": null,
   "metadata": {},
   "outputs": [],
   "source": []
  },
  {
   "cell_type": "markdown",
   "metadata": {},
   "source": [
    "# Portfolios"
   ]
  },
  {
   "cell_type": "markdown",
   "metadata": {},
   "source": [
    "## ¿Que es un portfolio?"
   ]
  },
  {
   "cell_type": "markdown",
   "metadata": {},
   "source": [
    "    * ¿El hedging forma parte de los portfolios?\n",
    "        * ¿Por que si o no?\n",
    "    * ¿Que es un portfolio para un quant P?"
   ]
  },
  {
   "cell_type": "markdown",
   "metadata": {},
   "source": [
    "## Portfolios de Activos/Estrategias"
   ]
  },
  {
   "cell_type": "markdown",
   "metadata": {},
   "source": [
    "Consideraciones\n",
    "\n",
    "    * ¿Puedo considerar mas de una estrategia sobre un mismo activo en un mismo portfolio?\n",
    "    * RiskManagement ¿donde pega?"
   ]
  },
  {
   "cell_type": "markdown",
   "metadata": {},
   "source": [
    "## Tipos de estrategias"
   ]
  },
  {
   "cell_type": "markdown",
   "metadata": {},
   "source": [
    "* Momentum\n",
    "* Contrarians \n",
    "* Hedging\n",
    "* Arbitrajes / Arbitrajes estadísticos\n",
    "* Sentiment\n",
    "* Pricing (opciones por ejemplo)\n",
    "* Asset allocation / Rotacion"
   ]
  },
  {
   "cell_type": "markdown",
   "metadata": {},
   "source": [
    "## En cuales tiene ventaja un algotrader?"
   ]
  },
  {
   "cell_type": "markdown",
   "metadata": {},
   "source": [
    "* ¿Cuales pueden ser los factores competitivos que me den una ventaja?\n",
    "* ¿Ventaja contra el retail o contra un fondo?\n",
    "* ¿En que tipo de mercado conviene cada ventaja?"
   ]
  },
  {
   "cell_type": "markdown",
   "metadata": {},
   "source": [
    "# Market Data"
   ]
  },
  {
   "cell_type": "markdown",
   "metadata": {},
   "source": [
    "## Fuentes de Datos"
   ]
  },
  {
   "cell_type": "markdown",
   "metadata": {},
   "source": [
    "    * Scraping\n",
    "        * Ejemplo finviz\n",
    "    * APIs \n",
    "        * Gratuitas\n",
    "            * Google (via google sheets + python)\n",
    "            * Yahoo\n",
    "            * AlphaVantage\n",
    "            * Cryptos\n",
    "        * Freemium\n",
    "            * IEX\n",
    "            * FMP\n",
    "            * Finnhub/Tiingo\n",
    "        * Profesionales / Institucionales\n",
    "            * Gratis.. o casi\n",
    "                * Ameritrade (USA)\n",
    "                * IBKR (USA)\n",
    "                * IOL (Byma)\n",
    "                * Remarkets (Rofex)\n",
    "            * Saladix\n",
    "                * Reuters / Refinitiv\n",
    "                * BBG"
   ]
  },
  {
   "cell_type": "markdown",
   "metadata": {},
   "source": [
    "# Bases de Datos"
   ]
  },
  {
   "cell_type": "markdown",
   "metadata": {},
   "source": [
    "    * ¿Debo descartar cualquier funete de datos que no pase cierto criterio? \n",
    "    * ¿Por que no? ¿Como clasifico data por calidad?"
   ]
  },
  {
   "cell_type": "code",
   "execution_count": null,
   "metadata": {},
   "outputs": [],
   "source": []
  }
 ],
 "metadata": {
  "kernelspec": {
   "display_name": "Python 3",
   "language": "python",
   "name": "python3"
  },
  "language_info": {
   "codemirror_mode": {
    "name": "ipython",
    "version": 3
   },
   "file_extension": ".py",
   "mimetype": "text/x-python",
   "name": "python",
   "nbconvert_exporter": "python",
   "pygments_lexer": "ipython3",
   "version": "3.8.5"
  },
  "toc": {
   "base_numbering": 1,
   "nav_menu": {},
   "number_sections": true,
   "sideBar": true,
   "skip_h1_title": false,
   "title_cell": "Table of Contents",
   "title_sidebar": "Contents",
   "toc_cell": false,
   "toc_position": {},
   "toc_section_display": true,
   "toc_window_display": true
  }
 },
 "nbformat": 4,
 "nbformat_minor": 4
}
